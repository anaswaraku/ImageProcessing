{
 "cells": [
  {
   "cell_type": "markdown",
   "id": "3c8a2e16-8ea5-47c2-a05b-b01a33d14868",
   "metadata": {},
   "source": [
    "**Log Transformation**"
   ]
  },
  {
   "cell_type": "raw",
   "id": "8277998e-febf-4aca-9866-1d03e7fd0e54",
   "metadata": {},
   "source": [
    "map narrow range of low input grey level into a wider range of output values\n",
    "compress high intensity\n",
    "expand low intensity\n"
   ]
  },
  {
   "cell_type": "raw",
   "id": "730faf55-1b66-4a2c-a4e3-b5826a37de8f",
   "metadata": {},
   "source": [
    "S = c * log (1 + r)\n",
    "\n",
    "where,\n",
    "R = input pixel value,\n",
    "C = scaling constant and\n",
    "S = output pixel value\n",
    "\n",
    "c = 255 / (log (1 + max_input_pixel_value))"
   ]
  },
  {
   "cell_type": "code",
   "execution_count": 1,
   "id": "3b6f7619-a055-49ac-98a9-f4922bfcff8d",
   "metadata": {},
   "outputs": [],
   "source": [
    "import cv2\n",
    "import numpy as np\n",
    "import matplotlib.pyplot as plt"
   ]
  },
  {
   "cell_type": "code",
   "execution_count": 31,
   "id": "f55b6aed-e3d7-40dd-856a-cd515e716574",
   "metadata": {},
   "outputs": [],
   "source": [
    "img = cv2.imread('geeks.png')"
   ]
  },
  {
   "cell_type": "code",
   "execution_count": 32,
   "id": "917006f4-e287-401b-9eda-20f1a90d08ae",
   "metadata": {},
   "outputs": [
    {
     "data": {
      "text/plain": [
       "array([[[255, 255, 255],\n",
       "        [255, 255, 255],\n",
       "        [255, 255, 255],\n",
       "        ...,\n",
       "        [255, 255, 255],\n",
       "        [255, 255, 255],\n",
       "        [255, 255, 255]],\n",
       "\n",
       "       [[255, 255, 255],\n",
       "        [255, 255, 255],\n",
       "        [255, 255, 255],\n",
       "        ...,\n",
       "        [255, 255, 255],\n",
       "        [255, 255, 255],\n",
       "        [255, 255, 255]],\n",
       "\n",
       "       [[255, 255, 255],\n",
       "        [255, 255, 255],\n",
       "        [255, 255, 255],\n",
       "        ...,\n",
       "        [255, 255, 255],\n",
       "        [255, 255, 255],\n",
       "        [255, 255, 255]],\n",
       "\n",
       "       ...,\n",
       "\n",
       "       [[255, 255, 255],\n",
       "        [255, 255, 255],\n",
       "        [255, 255, 255],\n",
       "        ...,\n",
       "        [255, 255, 255],\n",
       "        [255, 255, 255],\n",
       "        [255, 255, 255]],\n",
       "\n",
       "       [[255, 255, 255],\n",
       "        [255, 255, 255],\n",
       "        [255, 255, 255],\n",
       "        ...,\n",
       "        [255, 255, 255],\n",
       "        [255, 255, 255],\n",
       "        [255, 255, 255]],\n",
       "\n",
       "       [[255, 255, 255],\n",
       "        [255, 255, 255],\n",
       "        [255, 255, 255],\n",
       "        ...,\n",
       "        [255, 255, 255],\n",
       "        [255, 255, 255],\n",
       "        [255, 255, 255]]], dtype=uint8)"
      ]
     },
     "execution_count": 32,
     "metadata": {},
     "output_type": "execute_result"
    }
   ],
   "source": [
    "img"
   ]
  },
  {
   "cell_type": "code",
   "execution_count": 33,
   "id": "31e66076-64c0-46b7-b373-cd37f79bfddb",
   "metadata": {},
   "outputs": [
    {
     "name": "stderr",
     "output_type": "stream",
     "text": [
      "C:\\Users\\LENOVO\\AppData\\Local\\Temp\\ipykernel_11460\\1474988009.py:1: RuntimeWarning: overflow encountered in scalar add\n",
      "  c=255/np.log(1+np.max(img))\n",
      "C:\\Users\\LENOVO\\AppData\\Local\\Temp\\ipykernel_11460\\1474988009.py:1: RuntimeWarning: divide by zero encountered in log\n",
      "  c=255/np.log(1+np.max(img))\n"
     ]
    }
   ],
   "source": [
    "c=255/np.log(1+np.max(img))"
   ]
  },
  {
   "cell_type": "code",
   "execution_count": null,
   "id": "4dd6797d-70e0-4693-aee1-a2398f98de02",
   "metadata": {},
   "outputs": [],
   "source": []
  }
 ],
 "metadata": {
  "kernelspec": {
   "display_name": "Python 3 (ipykernel)",
   "language": "python",
   "name": "python3"
  },
  "language_info": {
   "codemirror_mode": {
    "name": "ipython",
    "version": 3
   },
   "file_extension": ".py",
   "mimetype": "text/x-python",
   "name": "python",
   "nbconvert_exporter": "python",
   "pygments_lexer": "ipython3",
   "version": "3.11.9"
  }
 },
 "nbformat": 4,
 "nbformat_minor": 5
}
