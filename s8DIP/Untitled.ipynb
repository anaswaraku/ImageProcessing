{
 "cells": [
  {
   "cell_type": "markdown",
   "id": "839f6749-2d5f-4957-b35f-600cddcd03f6",
   "metadata": {},
   "source": [
    "Pgm to open an image, display it and retrive its dimensions using opecv"
   ]
  },
  {
   "cell_type": "code",
   "execution_count": 1,
   "id": "43a4caab-1a23-49e8-a242-0623c53fef0d",
   "metadata": {},
   "outputs": [],
   "source": [
    "import cv2"
   ]
  },
  {
   "cell_type": "code",
   "execution_count": 2,
   "id": "93588ba0-2e08-41ad-afac-64270f8d7efe",
   "metadata": {},
   "outputs": [],
   "source": [
    "img = cv2.imread(\"myimage.jpg\", cv2.IMREAD_COLOR)\n",
    "cv2.imshow(\"image\",img)\n",
    "cv2.waitKey(0)\n",
    "cv2.destroyAllWindows()"
   ]
  },
  {
   "cell_type": "code",
   "execution_count": 3,
   "id": "beef4b24-5d81-41a9-98e5-91425cdffa0d",
   "metadata": {},
   "outputs": [
    {
     "name": "stdout",
     "output_type": "stream",
     "text": [
      "Image Dimension: (1443, 1059, 3)\n"
     ]
    }
   ],
   "source": [
    "print(\"Image Dimension:\",img.shape)"
   ]
  },
  {
   "cell_type": "markdown",
   "id": "1f5889c1-9750-4de8-992d-783d8aac2c4d",
   "metadata": {},
   "source": [
    "Program to read an input image, convert it into an array of number and display it"
   ]
  },
  {
   "cell_type": "code",
   "execution_count": 4,
   "id": "b4f5273f-e072-4e29-8a8f-601c64e7fd44",
   "metadata": {},
   "outputs": [
    {
     "name": "stdout",
     "output_type": "stream",
     "text": [
      "<class 'numpy.ndarray'>\n"
     ]
    }
   ],
   "source": [
    "print(type(img))"
   ]
  },
  {
   "cell_type": "code",
   "execution_count": 5,
   "id": "198d5676-7508-4572-be36-e10a97a97862",
   "metadata": {},
   "outputs": [
    {
     "name": "stdout",
     "output_type": "stream",
     "text": [
      "Image Array:  [[[255 255 255]\n",
      "  [255 255 255]\n",
      "  [255 255 255]\n",
      "  ...\n",
      "  [255 255 255]\n",
      "  [255 255 255]\n",
      "  [255 255 255]]\n",
      "\n",
      " [[255 255 255]\n",
      "  [255 255 255]\n",
      "  [255 255 255]\n",
      "  ...\n",
      "  [255 255 255]\n",
      "  [255 255 255]\n",
      "  [255 255 255]]\n",
      "\n",
      " [[255 255 255]\n",
      "  [255 255 255]\n",
      "  [255 255 255]\n",
      "  ...\n",
      "  [255 255 255]\n",
      "  [255 255 255]\n",
      "  [255 255 255]]\n",
      "\n",
      " ...\n",
      "\n",
      " [[201 199 188]\n",
      "  [187 185 174]\n",
      "  [174 172 161]\n",
      "  ...\n",
      "  [255 255 255]\n",
      "  [255 255 255]\n",
      "  [255 255 255]]\n",
      "\n",
      " [[221 220 210]\n",
      "  [204 203 193]\n",
      "  [187 186 176]\n",
      "  ...\n",
      "  [255 255 255]\n",
      "  [255 255 255]\n",
      "  [255 255 255]]\n",
      "\n",
      " [[226 224 216]\n",
      "  [208 206 198]\n",
      "  [189 188 178]\n",
      "  ...\n",
      "  [255 255 255]\n",
      "  [255 255 255]\n",
      "  [255 255 255]]]\n"
     ]
    }
   ],
   "source": [
    "import numpy as np\n",
    "arr_img=np.array(img)\n",
    "print(\"Image Array: \",arr_img)"
   ]
  },
  {
   "cell_type": "markdown",
   "id": "da7fcb40-d1a5-49b9-9a17-d4404fb908bf",
   "metadata": {},
   "source": [
    "Program to read a color image and convert it into grayscale"
   ]
  },
  {
   "cell_type": "code",
   "execution_count": 16,
   "id": "fbe39b88-52a2-445c-8ab4-f8de5a891112",
   "metadata": {},
   "outputs": [],
   "source": [
    "gray_img= cv2.cvtColor(img, cv2.COLOR_BGR2GRAY)\n",
    "cv2.imshow(\"image\",gray_img)\n",
    "cv2.waitKey(0)\n",
    "cv2.destroyAllWindows()"
   ]
  },
  {
   "cell_type": "code",
   "execution_count": 7,
   "id": "47184e11-6694-497c-a71c-61a08acfe475",
   "metadata": {},
   "outputs": [
    {
     "data": {
      "text/plain": [
       "(1443, 1059, 3)"
      ]
     },
     "execution_count": 7,
     "metadata": {},
     "output_type": "execute_result"
    }
   ],
   "source": [
    "img.shape"
   ]
  },
  {
   "cell_type": "code",
   "execution_count": 8,
   "id": "fafef94c-5afb-413f-bf45-f44218f48580",
   "metadata": {},
   "outputs": [
    {
     "name": "stdout",
     "output_type": "stream",
     "text": [
      "Height:  1443 \n",
      "Width:  1059\n"
     ]
    }
   ],
   "source": [
    "(h,w)=img.shape[:2]\n",
    "print(\"Height: \",h,\"\\nWidth: \",w)"
   ]
  },
  {
   "cell_type": "code",
   "execution_count": 10,
   "id": "dfb70e4a-d505-4fb0-845c-dd3d32970a8f",
   "metadata": {},
   "outputs": [],
   "source": [
    "resized_img = cv2.resize(img, (500, 500))\n",
    "cv2.imshow(\"Resized Image\", resized_img)\n",
    "cv2.waitKey(0)\n",
    "cv2.destroyAllWindows() "
   ]
  },
  {
   "cell_type": "code",
   "execution_count": null,
   "id": "f3777287-c4c2-4162-b600-a5f70d838e0d",
   "metadata": {},
   "outputs": [],
   "source": []
  }
 ],
 "metadata": {
  "kernelspec": {
   "display_name": "Python 3 (ipykernel)",
   "language": "python",
   "name": "python3"
  },
  "language_info": {
   "codemirror_mode": {
    "name": "ipython",
    "version": 3
   },
   "file_extension": ".py",
   "mimetype": "text/x-python",
   "name": "python",
   "nbconvert_exporter": "python",
   "pygments_lexer": "ipython3",
   "version": "3.12.9"
  }
 },
 "nbformat": 4,
 "nbformat_minor": 5
}
