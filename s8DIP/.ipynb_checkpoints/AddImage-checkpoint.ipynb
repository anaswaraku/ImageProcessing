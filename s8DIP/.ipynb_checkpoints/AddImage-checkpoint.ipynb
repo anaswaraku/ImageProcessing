{
 "cells": [
  {
   "cell_type": "code",
   "execution_count": 1,
   "id": "8c5f0fb6-74be-4c44-8a38-7274229677cd",
   "metadata": {},
   "outputs": [],
   "source": [
    "import cv2"
   ]
  },
  {
   "cell_type": "code",
   "execution_count": 11,
   "id": "f27d6ed6-a3e9-4133-af49-cf60c88754ff",
   "metadata": {},
   "outputs": [],
   "source": [
    "def imgcv2(i):\n",
    "    cv2.imshow(\"image\",i)\n",
    "    cv2.waitKey(0)\n",
    "    cv2.destroyAllWindows()\n",
    "\n",
    "import matplotlib.pyplot as plt\n",
    "def pltimg(i):\n",
    "    img = cv2.cvtColor(i, cv2.COLOR_BGR2RGB)# BGR (Blue-Green-Red) to RGB (Red-Green-Blue) format\n",
    "    plt.imshow(img)\n",
    "    plt.axis('off') \n",
    "    plt.show()"
   ]
  },
  {
   "cell_type": "code",
   "execution_count": 2,
   "id": "2ac16ca9-f989-4c4e-a9bf-c811b0f93611",
   "metadata": {},
   "outputs": [],
   "source": [
    "cat=cv2.imread('cat.jpg')\n",
    "dog=cv2.imread('dog.jpg')"
   ]
  },
  {
   "cell_type": "code",
   "execution_count": 6,
   "id": "2e1a1eff-6002-48e4-ac0c-76a5a85dc15d",
   "metadata": {},
   "outputs": [
    {
     "data": {
      "text/plain": [
       "(360, 540, 3)"
      ]
     },
     "execution_count": 6,
     "metadata": {},
     "output_type": "execute_result"
    }
   ],
   "source": [
    "cat.shape"
   ]
  },
  {
   "cell_type": "code",
   "execution_count": 7,
   "id": "c84b65a4-9610-4938-8cdb-d6647b46a483",
   "metadata": {},
   "outputs": [
    {
     "data": {
      "text/plain": [
       "(183, 275, 3)"
      ]
     },
     "execution_count": 7,
     "metadata": {},
     "output_type": "execute_result"
    }
   ],
   "source": [
    "dog.shape"
   ]
  },
  {
   "cell_type": "code",
   "execution_count": 8,
   "id": "3670c3a2-41b6-4e00-b455-7038f143f7e3",
   "metadata": {},
   "outputs": [],
   "source": [
    "cat=cv2.resize(cat,(275,183))"
   ]
  },
  {
   "cell_type": "code",
   "execution_count": 9,
   "id": "049da243-64ac-4a39-8221-0c8509236b07",
   "metadata": {},
   "outputs": [
    {
     "data": {
      "text/plain": [
       "(183, 275, 3)"
      ]
     },
     "execution_count": 9,
     "metadata": {},
     "output_type": "execute_result"
    }
   ],
   "source": [
    "cat.shape"
   ]
  },
  {
   "cell_type": "code",
   "execution_count": 10,
   "id": "f3ae4a32-7558-4137-90ac-14c58a93d142",
   "metadata": {},
   "outputs": [],
   "source": [
    "addedimg=cv2.add(cat,dog)\n",
    "imgcv2(addedimg)"
   ]
  },
  {
   "cell_type": "code",
   "execution_count": null,
   "id": "b3d59ac1-be64-4f1a-9133-5e90e8edc215",
   "metadata": {},
   "outputs": [],
   "source": []
  }
 ],
 "metadata": {
  "kernelspec": {
   "display_name": "Python 3 (ipykernel)",
   "language": "python",
   "name": "python3"
  },
  "language_info": {
   "codemirror_mode": {
    "name": "ipython",
    "version": 3
   },
   "file_extension": ".py",
   "mimetype": "text/x-python",
   "name": "python",
   "nbconvert_exporter": "python",
   "pygments_lexer": "ipython3",
   "version": "3.13.1"
  }
 },
 "nbformat": 4,
 "nbformat_minor": 5
}
